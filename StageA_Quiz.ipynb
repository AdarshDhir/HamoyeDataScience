{
  "nbformat": 4,
  "nbformat_minor": 0,
  "metadata": {
    "colab": {
      "name": "StageA_Quiz.ipynb",
      "provenance": []
    },
    "kernelspec": {
      "name": "python3",
      "display_name": "Python 3"
    },
    "language_info": {
      "name": "python"
    }
  },
  "cells": [
    {
      "cell_type": "markdown",
      "metadata": {
        "id": "5RQWUCwQykwD"
      },
      "source": [
        "#Hamoye Stage A Data Science Internship Quiz"
      ]
    },
    {
      "cell_type": "markdown",
      "metadata": {
        "id": "1rWki-7HyPhL"
      },
      "source": [
        "Hamoye Stage A Data Science Internship Quiz\n",
        "Hi, I am Adarsh Dhir, Data Science Intern at Hamoye AI. Below is my Answers to Quiz Stage A on the fuel data set :"
      ]
    },
    {
      "cell_type": "code",
      "metadata": {
        "id": "mbdkfcnS8tYI"
      },
      "source": [
        "import numpy as np\n",
        "import pandas as pd"
      ],
      "execution_count": 3,
      "outputs": []
    },
    {
      "cell_type": "code",
      "metadata": {
        "colab": {
          "base_uri": "https://localhost:8080/",
          "height": 394
        },
        "id": "-l6wAA6D80H9",
        "outputId": "5e6a7fc1-044b-41ef-91a9-e496459804ef"
      },
      "source": [
        "df=pd.read_csv(\"https://raw.githubusercontent.com/WalePhenomenon/climate_change/master/fuel_ferc1.csv\")\n",
        "df.head(10)"
      ],
      "execution_count": 4,
      "outputs": [
        {
          "output_type": "execute_result",
          "data": {
            "text/html": [
              "<div>\n",
              "<style scoped>\n",
              "    .dataframe tbody tr th:only-of-type {\n",
              "        vertical-align: middle;\n",
              "    }\n",
              "\n",
              "    .dataframe tbody tr th {\n",
              "        vertical-align: top;\n",
              "    }\n",
              "\n",
              "    .dataframe thead th {\n",
              "        text-align: right;\n",
              "    }\n",
              "</style>\n",
              "<table border=\"1\" class=\"dataframe\">\n",
              "  <thead>\n",
              "    <tr style=\"text-align: right;\">\n",
              "      <th></th>\n",
              "      <th>record_id</th>\n",
              "      <th>utility_id_ferc1</th>\n",
              "      <th>report_year</th>\n",
              "      <th>plant_name_ferc1</th>\n",
              "      <th>fuel_type_code_pudl</th>\n",
              "      <th>fuel_unit</th>\n",
              "      <th>fuel_qty_burned</th>\n",
              "      <th>fuel_mmbtu_per_unit</th>\n",
              "      <th>fuel_cost_per_unit_burned</th>\n",
              "      <th>fuel_cost_per_unit_delivered</th>\n",
              "      <th>fuel_cost_per_mmbtu</th>\n",
              "    </tr>\n",
              "  </thead>\n",
              "  <tbody>\n",
              "    <tr>\n",
              "      <th>0</th>\n",
              "      <td>f1_fuel_1994_12_1_0_7</td>\n",
              "      <td>1</td>\n",
              "      <td>1994</td>\n",
              "      <td>rockport</td>\n",
              "      <td>coal</td>\n",
              "      <td>ton</td>\n",
              "      <td>5377489.0</td>\n",
              "      <td>16.590000</td>\n",
              "      <td>18.59</td>\n",
              "      <td>18.53</td>\n",
              "      <td>1.121</td>\n",
              "    </tr>\n",
              "    <tr>\n",
              "      <th>1</th>\n",
              "      <td>f1_fuel_1994_12_1_0_10</td>\n",
              "      <td>1</td>\n",
              "      <td>1994</td>\n",
              "      <td>rockport total plant</td>\n",
              "      <td>coal</td>\n",
              "      <td>ton</td>\n",
              "      <td>10486945.0</td>\n",
              "      <td>16.592000</td>\n",
              "      <td>18.58</td>\n",
              "      <td>18.53</td>\n",
              "      <td>1.120</td>\n",
              "    </tr>\n",
              "    <tr>\n",
              "      <th>2</th>\n",
              "      <td>f1_fuel_1994_12_2_0_1</td>\n",
              "      <td>2</td>\n",
              "      <td>1994</td>\n",
              "      <td>gorgas</td>\n",
              "      <td>coal</td>\n",
              "      <td>ton</td>\n",
              "      <td>2978683.0</td>\n",
              "      <td>24.130000</td>\n",
              "      <td>39.72</td>\n",
              "      <td>38.12</td>\n",
              "      <td>1.650</td>\n",
              "    </tr>\n",
              "    <tr>\n",
              "      <th>3</th>\n",
              "      <td>f1_fuel_1994_12_2_0_7</td>\n",
              "      <td>2</td>\n",
              "      <td>1994</td>\n",
              "      <td>barry</td>\n",
              "      <td>coal</td>\n",
              "      <td>ton</td>\n",
              "      <td>3739484.0</td>\n",
              "      <td>23.950000</td>\n",
              "      <td>47.21</td>\n",
              "      <td>45.99</td>\n",
              "      <td>1.970</td>\n",
              "    </tr>\n",
              "    <tr>\n",
              "      <th>4</th>\n",
              "      <td>f1_fuel_1994_12_2_0_10</td>\n",
              "      <td>2</td>\n",
              "      <td>1994</td>\n",
              "      <td>chickasaw</td>\n",
              "      <td>gas</td>\n",
              "      <td>mcf</td>\n",
              "      <td>40533.0</td>\n",
              "      <td>1.000000</td>\n",
              "      <td>2.77</td>\n",
              "      <td>2.77</td>\n",
              "      <td>2.570</td>\n",
              "    </tr>\n",
              "    <tr>\n",
              "      <th>5</th>\n",
              "      <td>f1_fuel_1994_12_2_0_13</td>\n",
              "      <td>2</td>\n",
              "      <td>1994</td>\n",
              "      <td>e. c. gaston-unit 5</td>\n",
              "      <td>coal</td>\n",
              "      <td>ton</td>\n",
              "      <td>2124933.0</td>\n",
              "      <td>23.922000</td>\n",
              "      <td>44.24</td>\n",
              "      <td>43.25</td>\n",
              "      <td>1.850</td>\n",
              "    </tr>\n",
              "    <tr>\n",
              "      <th>6</th>\n",
              "      <td>f1_fuel_1994_12_2_1_1</td>\n",
              "      <td>2</td>\n",
              "      <td>1994</td>\n",
              "      <td>joseph m. farley</td>\n",
              "      <td>nuclear</td>\n",
              "      <td>kgU</td>\n",
              "      <td>2260.0</td>\n",
              "      <td>0.064094</td>\n",
              "      <td>28.77</td>\n",
              "      <td>0.00</td>\n",
              "      <td>0.450</td>\n",
              "    </tr>\n",
              "    <tr>\n",
              "      <th>7</th>\n",
              "      <td>f1_fuel_1994_12_2_1_10</td>\n",
              "      <td>2</td>\n",
              "      <td>1994</td>\n",
              "      <td>resondent's portion</td>\n",
              "      <td>coal</td>\n",
              "      <td>ton</td>\n",
              "      <td>5372133.0</td>\n",
              "      <td>24.840000</td>\n",
              "      <td>58.54</td>\n",
              "      <td>55.13</td>\n",
              "      <td>2.360</td>\n",
              "    </tr>\n",
              "    <tr>\n",
              "      <th>8</th>\n",
              "      <td>f1_fuel_1994_12_2_2_10</td>\n",
              "      <td>2</td>\n",
              "      <td>1994</td>\n",
              "      <td>respondent's portion</td>\n",
              "      <td>coal</td>\n",
              "      <td>ton</td>\n",
              "      <td>817520.0</td>\n",
              "      <td>24.290000</td>\n",
              "      <td>33.97</td>\n",
              "      <td>34.65</td>\n",
              "      <td>1.400</td>\n",
              "    </tr>\n",
              "    <tr>\n",
              "      <th>9</th>\n",
              "      <td>f1_fuel_1994_12_4_0_1</td>\n",
              "      <td>4</td>\n",
              "      <td>1994</td>\n",
              "      <td>units 1-3</td>\n",
              "      <td>coal</td>\n",
              "      <td>ton</td>\n",
              "      <td>1471233.0</td>\n",
              "      <td>22.484000</td>\n",
              "      <td>28.73</td>\n",
              "      <td>28.11</td>\n",
              "      <td>1.278</td>\n",
              "    </tr>\n",
              "  </tbody>\n",
              "</table>\n",
              "</div>"
            ],
            "text/plain": [
              "                record_id  ...  fuel_cost_per_mmbtu\n",
              "0   f1_fuel_1994_12_1_0_7  ...                1.121\n",
              "1  f1_fuel_1994_12_1_0_10  ...                1.120\n",
              "2   f1_fuel_1994_12_2_0_1  ...                1.650\n",
              "3   f1_fuel_1994_12_2_0_7  ...                1.970\n",
              "4  f1_fuel_1994_12_2_0_10  ...                2.570\n",
              "5  f1_fuel_1994_12_2_0_13  ...                1.850\n",
              "6   f1_fuel_1994_12_2_1_1  ...                0.450\n",
              "7  f1_fuel_1994_12_2_1_10  ...                2.360\n",
              "8  f1_fuel_1994_12_2_2_10  ...                1.400\n",
              "9   f1_fuel_1994_12_4_0_1  ...                1.278\n",
              "\n",
              "[10 rows x 11 columns]"
            ]
          },
          "metadata": {},
          "execution_count": 4
        }
      ]
    },
    {
      "cell_type": "markdown",
      "metadata": {
        "id": "FoQg9qEls-dG"
      },
      "source": [
        "**Ques-1**"
      ]
    },
    {
      "cell_type": "code",
      "metadata": {
        "colab": {
          "base_uri": "https://localhost:8080/"
        },
        "id": "jeVtkVJU-Ju7",
        "outputId": "305c26bf-6abd-4bef-c075-03e08062065f"
      },
      "source": [
        "A =[1,2,3,4,5,6]\n",
        "B =[13,21,34]\n",
        "A.extend(B)\n",
        "A_B=A\n",
        "print(\"extended array\", A_B)\n",
        "\n",
        "A = [1,2,3,4,5,6]\n",
        "B = [13, 21, 34]\n",
        "A.append(B)\n",
        "print(\"appended array\",A)"
      ],
      "execution_count": 11,
      "outputs": [
        {
          "output_type": "stream",
          "text": [
            "extended array [1, 2, 3, 4, 5, 6, 13, 21, 34]\n",
            "appended array [1, 2, 3, 4, 5, 6, [13, 21, 34]]\n"
          ],
          "name": "stdout"
        }
      ]
    },
    {
      "cell_type": "markdown",
      "metadata": {
        "id": "UJ7bo-oGu6jI"
      },
      "source": [
        "**Ques-2**"
      ]
    },
    {
      "cell_type": "code",
      "metadata": {
        "colab": {
          "base_uri": "https://localhost:8080/"
        },
        "id": "O0tpBFifG7el",
        "outputId": "17e47877-a3c9-4b85-b1a1-f2208dc30d21"
      },
      "source": [
        "print(np.array([[1,0,0],[0,1,0],[0,0,1]]),\"\\n\")\n",
        "print(np.eye(3),\"\\n\")\n",
        "print(np.identity(3),\"\\n\")"
      ],
      "execution_count": 13,
      "outputs": [
        {
          "output_type": "stream",
          "text": [
            "[[1 0 0]\n",
            " [0 1 0]\n",
            " [0 0 1]] \n",
            "\n",
            "[[1. 0. 0.]\n",
            " [0. 1. 0.]\n",
            " [0. 0. 1.]] \n",
            "\n",
            "[[1. 0. 0.]\n",
            " [0. 1. 0.]\n",
            " [0. 0. 1.]] \n",
            "\n"
          ],
          "name": "stdout"
        }
      ]
    },
    {
      "cell_type": "markdown",
      "metadata": {
        "id": "n1Mk8ysevdeY"
      },
      "source": [
        "**Ques-3**"
      ]
    },
    {
      "cell_type": "code",
      "metadata": {
        "colab": {
          "base_uri": "https://localhost:8080/"
        },
        "id": "GlUJ6E1l_HaZ",
        "outputId": "a41fe79c-1951-4cae-a16a-e3e8cdea5643"
      },
      "source": [
        "df.groupby('fuel_type_code_pudl')['fuel_cost_per_unit_burned'].mean()"
      ],
      "execution_count": null,
      "outputs": [
        {
          "output_type": "execute_result",
          "data": {
            "text/plain": [
              "fuel_type_code_pudl\n",
              "coal         67.421830\n",
              "gas          13.659397\n",
              "nuclear    4955.157002\n",
              "oil         168.877086\n",
              "other        18.253856\n",
              "waste        19.518122\n",
              "Name: fuel_cost_per_unit_burned, dtype: float64"
            ]
          },
          "metadata": {},
          "execution_count": 31
        }
      ]
    },
    {
      "cell_type": "markdown",
      "metadata": {
        "id": "uNxYtX2Avl-k"
      },
      "source": [
        "Observation : gas fuel type has lowest average fuel cost per unit burned"
      ]
    },
    {
      "cell_type": "markdown",
      "metadata": {
        "id": "HMUduR-MyzwH"
      },
      "source": [
        "**Ques-4**"
      ]
    },
    {
      "cell_type": "code",
      "metadata": {
        "colab": {
          "base_uri": "https://localhost:8080/"
        },
        "id": "g-8AsOu3ANee",
        "outputId": "992f71f8-61b6-4278-a378-125590de1014"
      },
      "source": [
        "desc_data=df['fuel_mmbtu_per_unit'].describe()\n",
        "print('standard deviation : ',desc_data['std'].round(2))\n",
        "print('75th percentile : ',desc_data['75%'].round(2))\n"
      ],
      "execution_count": 15,
      "outputs": [
        {
          "output_type": "stream",
          "text": [
            "standard deviation :  10.6\n",
            "75th percentile :  17.01\n"
          ],
          "name": "stdout"
        }
      ]
    },
    {
      "cell_type": "markdown",
      "metadata": {
        "id": "v8rBEWxdy9BU"
      },
      "source": [
        "**Ques-5**"
      ]
    },
    {
      "cell_type": "code",
      "metadata": {
        "colab": {
          "base_uri": "https://localhost:8080/"
        },
        "id": "i9pjBrCdBINh",
        "outputId": "a7624442-eecd-4c7d-e8d7-bdfeab11b577"
      },
      "source": [
        "\n",
        "print(\"skewness : \",df['fuel_qty_burned'].skew().round(2))\n",
        "print(\"kurtosis : \",df['fuel_qty_burned'].kurtosis().round(2))"
      ],
      "execution_count": 16,
      "outputs": [
        {
          "output_type": "stream",
          "text": [
            "skewness :  15.85\n",
            "kurtosis :  651.37\n"
          ],
          "name": "stdout"
        }
      ]
    },
    {
      "cell_type": "markdown",
      "metadata": {
        "id": "yhzkXSwnzBTt"
      },
      "source": [
        "**Ques-6**"
      ]
    },
    {
      "cell_type": "code",
      "metadata": {
        "colab": {
          "base_uri": "https://localhost:8080/"
        },
        "id": "KCqpG_TfB706",
        "outputId": "e6ad4187-1c2b-4d03-b63b-83672c1e03f7"
      },
      "source": [
        "df.isnull().sum()"
      ],
      "execution_count": null,
      "outputs": [
        {
          "output_type": "execute_result",
          "data": {
            "text/plain": [
              "record_id                         0\n",
              "utility_id_ferc1                  0\n",
              "report_year                       0\n",
              "plant_name_ferc1                  0\n",
              "fuel_type_code_pudl               0\n",
              "fuel_unit                       180\n",
              "fuel_qty_burned                   0\n",
              "fuel_mmbtu_per_unit               0\n",
              "fuel_cost_per_unit_burned         0\n",
              "fuel_cost_per_unit_delivered      0\n",
              "fuel_cost_per_mmbtu               0\n",
              "dtype: int64"
            ]
          },
          "metadata": {},
          "execution_count": 46
        }
      ]
    },
    {
      "cell_type": "markdown",
      "metadata": {
        "id": "G99aF427wrek"
      },
      "source": [
        "Observation: fuel_unit has 180 missing values"
      ]
    },
    {
      "cell_type": "code",
      "metadata": {
        "colab": {
          "base_uri": "https://localhost:8080/"
        },
        "id": "Ucrvi2ZDw46X",
        "outputId": "2b8a64e1-1b5e-4ccc-a8e4-27cb1f215ada"
      },
      "source": [
        "print(\"Percentage missing : \",sum((df.isnull().sum()*100)/len(df)))"
      ],
      "execution_count": 17,
      "outputs": [
        {
          "output_type": "stream",
          "text": [
            "Percentage missing :  0.6096941367747181\n"
          ],
          "name": "stdout"
        }
      ]
    },
    {
      "cell_type": "markdown",
      "metadata": {
        "id": "N-NImRWYzD2q"
      },
      "source": [
        "**Ques-7**"
      ]
    },
    {
      "cell_type": "code",
      "metadata": {
        "colab": {
          "base_uri": "https://localhost:8080/"
        },
        "id": "9Zv63-qaxJar",
        "outputId": "c937d5b7-172b-4dd7-91e2-f5ad48a1f68c"
      },
      "source": [
        "df.dtypes"
      ],
      "execution_count": 19,
      "outputs": [
        {
          "output_type": "execute_result",
          "data": {
            "text/plain": [
              "record_id                        object\n",
              "utility_id_ferc1                  int64\n",
              "report_year                       int64\n",
              "plant_name_ferc1                 object\n",
              "fuel_type_code_pudl              object\n",
              "fuel_unit                        object\n",
              "fuel_qty_burned                 float64\n",
              "fuel_mmbtu_per_unit             float64\n",
              "fuel_cost_per_unit_burned       float64\n",
              "fuel_cost_per_unit_delivered    float64\n",
              "fuel_cost_per_mmbtu             float64\n",
              "dtype: object"
            ]
          },
          "metadata": {},
          "execution_count": 19
        }
      ]
    },
    {
      "cell_type": "markdown",
      "metadata": {
        "id": "meW4M0EDxMjE"
      },
      "source": [
        "Observation: fuel_unit is a dtype 'object', hence its a categorial variable and we will use mode imputation for missing values."
      ]
    },
    {
      "cell_type": "markdown",
      "metadata": {
        "id": "jal3Hr3jzGn6"
      },
      "source": [
        "**Ques-8**"
      ]
    },
    {
      "cell_type": "code",
      "metadata": {
        "colab": {
          "base_uri": "https://localhost:8080/"
        },
        "id": "Uzj0uYHPxd95",
        "outputId": "fac64f47-4672-4670-a8a5-5447bfc4dc2d"
      },
      "source": [
        "abs(df.corrwith(df['fuel_cost_per_unit_burned'])).sort_values()"
      ],
      "execution_count": 20,
      "outputs": [
        {
          "output_type": "execute_result",
          "data": {
            "text/plain": [
              "fuel_cost_per_mmbtu             0.000437\n",
              "fuel_mmbtu_per_unit             0.010034\n",
              "fuel_cost_per_unit_delivered    0.011007\n",
              "report_year                     0.013599\n",
              "fuel_qty_burned                 0.018535\n",
              "utility_id_ferc1                0.037863\n",
              "fuel_cost_per_unit_burned       1.000000\n",
              "dtype: float64"
            ]
          },
          "metadata": {},
          "execution_count": 20
        }
      ]
    },
    {
      "cell_type": "markdown",
      "metadata": {
        "id": "UXSbCzh1xiA1"
      },
      "source": [
        "Obeservation: 'Fuel_mmbtu_per_unit' and 'fuel_cost_per_unit_delivered' has the second and third lowest correlation with the 'fuel_cost_per_unit_burned' respectively."
      ]
    },
    {
      "cell_type": "markdown",
      "metadata": {
        "id": "t_gwZcDNzJz3"
      },
      "source": [
        "**Ques-9**"
      ]
    },
    {
      "cell_type": "code",
      "metadata": {
        "colab": {
          "base_uri": "https://localhost:8080/"
        },
        "id": "Vqu4VIkwxuYi",
        "outputId": "fd6d4a67-cf69-43f4-894c-bf7c4c375e11"
      },
      "source": [
        "coal_data=df[df['fuel_type_code_pudl']=='coal']\n",
        "\n",
        "year_1994=coal_data[coal_data['report_year']==1994]['fuel_cost_per_unit_burned'].sum()\n",
        "year_1998=coal_data[coal_data['report_year']==1998]['fuel_cost_per_unit_burned'].sum()\n",
        "\n",
        "percent_change=(((year_1998-year_1994)/year_1994)*100).round()\n",
        "\n",
        "print(\"Percentage Change : \"+str(int(percent_change))+\"%\")"
      ],
      "execution_count": 22,
      "outputs": [
        {
          "output_type": "stream",
          "text": [
            "Percentage Change : -21%\n"
          ],
          "name": "stdout"
        }
      ]
    },
    {
      "cell_type": "markdown",
      "metadata": {
        "id": "NhMKRfK9zMBV"
      },
      "source": [
        "**Ques-10**"
      ]
    },
    {
      "cell_type": "code",
      "metadata": {
        "colab": {
          "base_uri": "https://localhost:8080/"
        },
        "id": "VDhDFMskFFFF",
        "outputId": "7a0efdd3-717a-4a75-9181-39d72228ebf6"
      },
      "source": [
        "df.groupby('report_year')['fuel_cost_per_unit_delivered'].mean().sort_values(ascending=False)"
      ],
      "execution_count": 23,
      "outputs": [
        {
          "output_type": "execute_result",
          "data": {
            "text/plain": [
              "report_year\n",
              "1997    11140.197239\n",
              "1996     9196.705948\n",
              "2000      985.362877\n",
              "2009      652.694163\n",
              "2018      499.269966\n",
              "2015      326.535511\n",
              "1998      287.154420\n",
              "2014      192.737183\n",
              "2013      172.307591\n",
              "2004      139.524275\n",
              "2016      103.901761\n",
              "2010       91.862105\n",
              "1994       63.636060\n",
              "2012       60.994502\n",
              "2001       60.050396\n",
              "2011       59.774667\n",
              "2008       58.588197\n",
              "2003       55.663493\n",
              "2002       47.594361\n",
              "2017       46.196861\n",
              "2007       43.325023\n",
              "2005       41.438184\n",
              "2006       38.657484\n",
              "1995       32.735269\n",
              "1999       25.551627\n",
              "Name: fuel_cost_per_unit_delivered, dtype: float64"
            ]
          },
          "metadata": {},
          "execution_count": 23
        }
      ]
    },
    {
      "cell_type": "markdown",
      "metadata": {
        "id": "ps5GkXlFyEGi"
      },
      "source": [
        "Observation : The highest average fuel cost per unit delivered is in 1997."
      ]
    }
  ]
}